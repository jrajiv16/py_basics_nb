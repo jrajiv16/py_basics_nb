{
 "cells": [
  {
   "cell_type": "code",
   "execution_count": 5,
   "metadata": {
    "collapsed": false
   },
   "outputs": [
    {
     "name": "stdout",
     "output_type": "stream",
     "text": [
      "1941926832\n",
      "1941926832\n",
      "<class 'int'> <class 'int'>\n",
      "2405116259976\n",
      "2405116259400\n",
      "<class 'list'> <class 'list'>\n"
     ]
    }
   ],
   "source": [
    "# Eg:1\n",
    "# every obj has 1) value, 2) type and 3) id\n",
    "#  for eg: 10 is an object & has an id.\n",
    "#  the variable a \"is set\" to 10\n",
    "#  Then a and 10 have same id's\n",
    "#  first 10 is created then a is created. \n",
    "# finally a reference from a to 10 is created.\n",
    "a = 10 \n",
    "print(id(a))\n",
    "print(type(a),type(10))"
   ]
  },
  {
   "cell_type": "code",
   "execution_count": 2,
   "metadata": {
    "collapsed": false
   },
   "outputs": [
    {
     "name": "stdout",
     "output_type": "stream",
     "text": [
      "257 257 True False\n",
      "[1, 2, 3] [1, 2, 3] True False\n",
      "***\n",
      "10 10 True True\n",
      "10 9 False False\n",
      "***\n",
      "[1, 2, 3] [1, 2, 3] True True\n",
      "[5, 2, 3] [5, 2, 3] True True\n"
     ]
    }
   ],
   "source": [
    "# Eg:2 \n",
    "# Immutable v/s mutable similarities\n",
    "\n",
    "a = 257\n",
    "b = 257 \n",
    "print(a,b, a==b, a is b) #a is b is false\n",
    "\n",
    "a = [1,2,3]\n",
    "b = [1,2,3] \n",
    "print(a,b, a==b, a is b) # a is b is false\n",
    "\n",
    "print('***')\n",
    "\n",
    "# Immutable v/s mutable differences\n",
    "a = 10\n",
    "b = a\n",
    "print(a,b, a==b, a is b)\n",
    "b = b - 1\n",
    "print(a,b, a==b, a is b)\n",
    "\n",
    "print('***')\n",
    "\n",
    "a = [1, 2, 3]\n",
    "b = a\n",
    "print(a,b, a==b, a is b)\n",
    "b[0] = 5\n",
    "print(a,b, a==b, a is b) # contrast a is b to mutable case"
   ]
  },
  {
   "cell_type": "code",
   "execution_count": 19,
   "metadata": {
    "collapsed": false
   },
   "outputs": [
    {
     "name": "stdout",
     "output_type": "stream",
     "text": [
      "True\n",
      "False True True\n",
      "[1, [2, 3], 5] [1, [2, 3], 5]\n",
      "[1, [-1, 3], 0] [1, [-1, 3], 5]\n",
      "False False True\n",
      "[1, [-1, 3], 0] [1, [-1, 3], 0]\n",
      "[1, [45, 3], 67] [1, [-1, 3], 0]\n"
     ]
    }
   ],
   "source": [
    "# * look at diagram above for clarification\n",
    "\n",
    "# Eg: 3.- Shallow/Deep copy\n",
    "# reference: https://python-course.eu/python3_deep_copy.php\n",
    "# this reference has been downloaded. C:\\Work\\deep_learning\\code\\python\\python_basics\\HTML\n",
    "\n",
    "#b,a-->|--> [1,     <-- | <--c (a,c point to different lists)\n",
    "#      |-->  [2,3], <-- |      (a[1],c[1] point to same lists) \n",
    "#      |-->  5      <-- |\n",
    "#           ]\n",
    "\n",
    "#  a  -->|                [1,                  |<-- d  (a,d point to different lists)    \n",
    "#     -->|  a[1] -->| ==> [2,3], <==| <-- d[1] |<--    (a[1],d[1] point to different lists)\n",
    "#       \n",
    "#     -->|                5]                   |<--\n",
    "#          \n",
    "\n",
    "a = [1,[2,3],5]\n",
    "b = a\n",
    "c = list(a) # create shallow copy of a. \n",
    "print(a is b)\n",
    "\n",
    "# a is not c. But a[1] is c[1] \n",
    "print(a is c, a[1] is c[1])\n",
    "\n",
    "print(a,c)\n",
    "a[2] = 0 # if a's contents at the first order level are changed c is not affected\n",
    "a[1][0] = -1 # if a's contents at a nested level are changed c is also affected\n",
    "print(a,c) # c changes at the nested level\n",
    "\n",
    "\n",
    "import copy\n",
    "a = [1,[2,3],5]\n",
    "d = copy.deepcopy(a)\n",
    "# a is not d. a[1] is not d[1]\n",
    "print(a is d, a[1] is d[1])\n",
    "print(a,d)\n",
    "a[2] = 67 # if a's contents at the first order level are changed d is not affected as d is a deep copy\n",
    "a[1][0] = 45 # if a's contents at a nested level are changed d is not affected as d is a deep copy\n",
    "print(a,d) # d is unchanged\n",
    "\n"
   ]
  },
  {
   "cell_type": "markdown",
   "metadata": {},
   "source": [
    "####  Upshot:\n",
    "- assume x,y point to same obj. (ie if x is y true)\n",
    "    - immutable obj:say we do y=y-1. Then x remains same. y changes. \n",
    "        - note: (object,variable,referenc creation in that order in y=y-1)\n",
    "    - mutable obj: we do y[0]= -1. The both x,y change. see Eg 1,2,3\n",
    "    - lists has shallow/deep copy features. See Eg:4"
   ]
  }
 ],
 "metadata": {
  "kernelspec": {
   "display_name": "Python [Anaconda3]",
   "language": "python",
   "name": "Python [Anaconda3]"
  },
  "language_info": {
   "codemirror_mode": {
    "name": "ipython",
    "version": 3
   },
   "file_extension": ".py",
   "mimetype": "text/x-python",
   "name": "python",
   "nbconvert_exporter": "python",
   "pygments_lexer": "ipython3",
   "version": "3.5.5"
  }
 },
 "nbformat": 4,
 "nbformat_minor": 0
}
